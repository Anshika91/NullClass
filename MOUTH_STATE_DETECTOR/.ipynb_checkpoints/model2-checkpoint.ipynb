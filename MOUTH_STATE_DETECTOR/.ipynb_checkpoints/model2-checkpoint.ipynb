{
 "cells": [
  {
   "cell_type": "code",
   "execution_count": 37,
   "id": "1e3495e2",
   "metadata": {},
   "outputs": [],
   "source": [
    "import numpy as np\n",
    "import tensorflow as tf\n",
    "from sklearn.model_selection import train_test_split\n",
    "import cv2\n",
    "import os\n",
    "from tkinter import filedialog\n",
    "\n",
    "\n",
    "get_ipython().run_line_magic('matplotlib', 'inline')\n",
    "import matplotlib.pyplot as plt\n",
    "\n",
    "\n",
    "from keras.utils import plot_model\n",
    "from keras.layers import Dense, Input, Dropout, Flatten, Conv2D\n",
    "from keras.layers import BatchNormalization, Activation, MaxPooling2D\n",
    "from keras.models import Model, Sequential"
   ]
  },
  {
   "cell_type": "code",
   "execution_count": 38,
   "id": "2f09451e",
   "metadata": {},
   "outputs": [],
   "source": [
    "open_mouth_path = 'train/yawn'\n",
    "close_mouth_path = 'train/no yawn'"
   ]
  },
  {
   "cell_type": "code",
   "execution_count": 39,
   "id": "bc2771d2",
   "metadata": {},
   "outputs": [],
   "source": [
    "open_mouth = []\n",
    "for filename in os.listdir(open_mouth_path):\n",
    "    image_path = os.path.join(open_mouth_path, filename)\n",
    "    image = cv2.imread(image_path, cv2.IMREAD_GRAYSCALE)  # Read image as grayscale\n",
    "    resized_image = cv2.resize(image, (24, 24))  # Resize image to 24x24 pixels\n",
    "    open_mouth.append(resized_image)"
   ]
  },
  {
   "cell_type": "code",
   "execution_count": 40,
   "id": "431479c4",
   "metadata": {},
   "outputs": [],
   "source": [
    "close_mouth = []\n",
    "for filename in os.listdir(close_mouth_path):\n",
    "    image_path = os.path.join(close_mouth_path, filename)\n",
    "    image = cv2.imread(image_path, cv2.IMREAD_GRAYSCALE)  # Read image as grayscale\n",
    "    resized_image = cv2.resize(image, (24, 24))  # Resize image to 24x24 pixels\n",
    "    close_mouth.append(resized_image)"
   ]
  },
  {
   "cell_type": "code",
   "execution_count": 41,
   "id": "ed0a8fc0",
   "metadata": {},
   "outputs": [],
   "source": [
    "open_mouth_labels = [1] * len(open_mouth)  # Label 1 for open eyes\n",
    "close_mouth_labels = [0] * len(close_mouth)"
   ]
  },
  {
   "cell_type": "code",
   "execution_count": 42,
   "id": "a462ff63",
   "metadata": {},
   "outputs": [],
   "source": [
    "images = np.concatenate((open_mouth, close_mouth), axis=0)\n",
    "labels = np.concatenate((open_mouth_labels, close_mouth_labels), axis=0)"
   ]
  },
  {
   "cell_type": "code",
   "execution_count": 43,
   "id": "dc6b326a",
   "metadata": {},
   "outputs": [],
   "source": [
    "images = np.array(images) / 255.0\n",
    "images = images.reshape(-1, 24, 24, 1) "
   ]
  },
  {
   "cell_type": "code",
   "execution_count": 44,
   "id": "c84a9688",
   "metadata": {},
   "outputs": [],
   "source": [
    "labels = tf.keras.utils.to_categorical(labels)"
   ]
  },
  {
   "cell_type": "code",
   "execution_count": 45,
   "id": "09684317",
   "metadata": {},
   "outputs": [],
   "source": [
    "X_train, X_test, y_train, y_test = train_test_split(images, labels, test_size=0.2, random_state=42)"
   ]
  },
  {
   "cell_type": "code",
   "execution_count": 46,
   "id": "f713638a",
   "metadata": {},
   "outputs": [],
   "source": [
    "model = tf.keras.Sequential([\n",
    "    tf.keras.layers.Conv2D(32, (3, 3), activation='relu', input_shape=(24, 24, 1)),\n",
    "    tf.keras.layers.MaxPooling2D((2, 2)),\n",
    "    tf.keras.layers.Conv2D(64, (3, 3), activation='relu'),\n",
    "    tf.keras.layers.MaxPooling2D((2, 2)),\n",
    "    tf.keras.layers.Flatten(),\n",
    "    tf.keras.layers.Dense(64, activation='relu'),\n",
    "    tf.keras.layers.Dense(2, activation='softmax')  # Assuming binary classification (open or closed)\n",
    "])"
   ]
  },
  {
   "cell_type": "code",
   "execution_count": 47,
   "id": "003dd597",
   "metadata": {},
   "outputs": [],
   "source": [
    "model.compile(loss='binary_crossentropy', optimizer='adam', metrics=['accuracy'])"
   ]
  },
  {
   "cell_type": "code",
   "execution_count": 48,
   "id": "a7bbfadf",
   "metadata": {},
   "outputs": [
    {
     "name": "stdout",
     "output_type": "stream",
     "text": [
      "Epoch 1/10\n",
      "128/128 [==============================] - 5s 23ms/step - loss: 0.4174 - accuracy: 0.8161 - val_loss: 0.2712 - val_accuracy: 0.8857\n",
      "Epoch 2/10\n",
      "128/128 [==============================] - 3s 21ms/step - loss: 0.2327 - accuracy: 0.9118 - val_loss: 0.2034 - val_accuracy: 0.9307\n",
      "Epoch 3/10\n",
      "128/128 [==============================] - 4s 34ms/step - loss: 0.1788 - accuracy: 0.9365 - val_loss: 0.1847 - val_accuracy: 0.9268\n",
      "Epoch 4/10\n",
      "128/128 [==============================] - 4s 31ms/step - loss: 0.1475 - accuracy: 0.9475 - val_loss: 0.1674 - val_accuracy: 0.9355\n",
      "Epoch 5/10\n",
      "128/128 [==============================] - 5s 35ms/step - loss: 0.1306 - accuracy: 0.9558 - val_loss: 0.1439 - val_accuracy: 0.9482\n",
      "Epoch 6/10\n",
      "128/128 [==============================] - 3s 22ms/step - loss: 0.1188 - accuracy: 0.9592 - val_loss: 0.1435 - val_accuracy: 0.9473\n",
      "Epoch 7/10\n",
      "128/128 [==============================] - 4s 30ms/step - loss: 0.1102 - accuracy: 0.9597 - val_loss: 0.1275 - val_accuracy: 0.9590\n",
      "Epoch 8/10\n",
      "128/128 [==============================] - 5s 36ms/step - loss: 0.1022 - accuracy: 0.9631 - val_loss: 0.1256 - val_accuracy: 0.9580\n",
      "Epoch 9/10\n",
      "128/128 [==============================] - 4s 34ms/step - loss: 0.0940 - accuracy: 0.9683 - val_loss: 0.1222 - val_accuracy: 0.9619\n",
      "Epoch 10/10\n",
      "128/128 [==============================] - 5s 36ms/step - loss: 0.0847 - accuracy: 0.9705 - val_loss: 0.1312 - val_accuracy: 0.9561\n"
     ]
    }
   ],
   "source": [
    "history = model.fit(X_train, y_train, epochs=10, batch_size=32, validation_data=(X_test, y_test))"
   ]
  },
  {
   "cell_type": "code",
   "execution_count": 49,
   "id": "aad54593",
   "metadata": {},
   "outputs": [
    {
     "name": "stdout",
     "output_type": "stream",
     "text": [
      "32/32 [==============================] - 0s 8ms/step - loss: 0.1312 - accuracy: 0.9561\n",
      "Test loss: 0.13120882213115692\n",
      "Test accuracy: 0.9560546875\n"
     ]
    }
   ],
   "source": [
    "loss, accuracy = model.evaluate(X_test, y_test)\n",
    "print(\"Test loss:\", loss)\n",
    "print(\"Test accuracy:\", accuracy)"
   ]
  },
  {
   "cell_type": "code",
   "execution_count": 50,
   "id": "207921f9",
   "metadata": {},
   "outputs": [
    {
     "ename": "NameError",
     "evalue": "name 'plt' is not defined",
     "output_type": "error",
     "traceback": [
      "\u001b[1;31m---------------------------------------------------------------------------\u001b[0m",
      "\u001b[1;31mNameError\u001b[0m                                 Traceback (most recent call last)",
      "Cell \u001b[1;32mIn[50], line 1\u001b[0m\n\u001b[1;32m----> 1\u001b[0m \u001b[43mplt\u001b[49m\u001b[38;5;241m.\u001b[39mfigure(figsize\u001b[38;5;241m=\u001b[39m(\u001b[38;5;241m8\u001b[39m, \u001b[38;5;241m6\u001b[39m))\n\u001b[0;32m      2\u001b[0m plt\u001b[38;5;241m.\u001b[39mplot(history\u001b[38;5;241m.\u001b[39mhistory[\u001b[38;5;124m'\u001b[39m\u001b[38;5;124mloss\u001b[39m\u001b[38;5;124m'\u001b[39m], label\u001b[38;5;241m=\u001b[39m\u001b[38;5;124m'\u001b[39m\u001b[38;5;124mTraining Loss\u001b[39m\u001b[38;5;124m'\u001b[39m)\n\u001b[0;32m      3\u001b[0m plt\u001b[38;5;241m.\u001b[39mplot(history\u001b[38;5;241m.\u001b[39mhistory[\u001b[38;5;124m'\u001b[39m\u001b[38;5;124mval_loss\u001b[39m\u001b[38;5;124m'\u001b[39m], label\u001b[38;5;241m=\u001b[39m\u001b[38;5;124m'\u001b[39m\u001b[38;5;124mValidation Loss\u001b[39m\u001b[38;5;124m'\u001b[39m)\n",
      "\u001b[1;31mNameError\u001b[0m: name 'plt' is not defined"
     ]
    }
   ],
   "source": [
    "plt.figure(figsize=(8, 6))\n",
    "plt.plot(history.history['loss'], label='Training Loss')\n",
    "plt.plot(history.history['val_loss'], label='Validation Loss')\n",
    "plt.xlabel('Epochs')\n",
    "plt.ylabel('Loss')\n",
    "plt.title('Training and Validation Loss')\n",
    "plt.legend()\n",
    "plt.show()\n",
    "\n",
    "plt.figure(figsize=(8, 6))\n",
    "plt.plot(history.history['accuracy'], label='Training Accuracy')\n",
    "plt.plot(history.history['val_accuracy'], label='Validation Accuracy')\n",
    "plt.xlabel('Epochs')\n",
    "plt.ylabel('Accuracy')\n",
    "plt.title('Training and Validation Accuracy')\n",
    "plt.legend()\n",
    "plt.show()"
   ]
  },
  {
   "cell_type": "code",
   "execution_count": 14,
   "id": "c381f095",
   "metadata": {},
   "outputs": [],
   "source": [
    "open_mouth_path = r\"train\\yawn\"\n",
    "Closed_mouth_path = r\"train\\no yawn\"\n",
    "\n",
    "open_mouth_images = []\n",
    "for filename in os.listdir(open_mouth_path):\n",
    "    image_path = os.path.join(open_mouth_path, filename)\n",
    "    image = cv2.imread(image_path, cv2.IMREAD_GRAYSCALE)\n",
    "    resized_image = cv2.resize(image, (24, 24))\n",
    "    open_mouth_images.append(resized_image)\n",
    "\n",
    "Closed_mouth_images = []\n",
    "for filename in os.listdir(Closed_mouth_path):\n",
    "    image_path = os.path.join(Closed_mouth_path, filename)\n",
    "    image = cv2.imread(image_path, cv2.IMREAD_GRAYSCALE)\n",
    "    resized_image = cv2.resize(image, (24, 24))\n",
    "    Closed_mouth_images.append(resized_image)"
   ]
  },
  {
   "cell_type": "code",
   "execution_count": 15,
   "id": "4e5f5b37",
   "metadata": {},
   "outputs": [
    {
     "name": "stdout",
     "output_type": "stream",
     "text": [
      "2528\n"
     ]
    }
   ],
   "source": [
    "open_mouth_images = np.array(open_mouth_images) / 255.0\n",
    "open_mouth_images = open_mouth_images.reshape(-1, 24, 24, 1)\n",
    "print(len(open_mouth_images))"
   ]
  },
  {
   "cell_type": "code",
   "execution_count": null,
   "id": "c6129e45",
   "metadata": {},
   "outputs": [],
   "source": [
    "predictions = model.predict(open_mouth_images)"
   ]
  },
  {
   "cell_type": "code",
   "execution_count": 17,
   "id": "4fc375e0",
   "metadata": {},
   "outputs": [
    {
     "name": "stdout",
     "output_type": "stream",
     "text": [
      "2591\n"
     ]
    }
   ],
   "source": [
    "Closed_mouth_images = np.array(Closed_mouth_images) / 255.0\n",
    "Closed_mouth_images = Closed_mouth_images.reshape(-1, 24, 24, 1)\n",
    "print(len(Closed_mouth_images))"
   ]
  },
  {
   "cell_type": "code",
   "execution_count": null,
   "id": "d16e411d",
   "metadata": {},
   "outputs": [],
   "source": [
    "predictions = model.predict(Closed_mouth_images)"
   ]
  },
  {
   "cell_type": "code",
   "execution_count": 21,
   "id": "a42f3bf3",
   "metadata": {},
   "outputs": [],
   "source": [
    "model.save(\"mouth_detection_model.h5\")"
   ]
  },
  {
   "cell_type": "code",
   "execution_count": null,
   "id": "5d1b3077",
   "metadata": {},
   "outputs": [],
   "source": []
  }
 ],
 "metadata": {
  "kernelspec": {
   "display_name": "Python 3 (ipykernel)",
   "language": "python",
   "name": "python3"
  },
  "language_info": {
   "codemirror_mode": {
    "name": "ipython",
    "version": 3
   },
   "file_extension": ".py",
   "mimetype": "text/x-python",
   "name": "python",
   "nbconvert_exporter": "python",
   "pygments_lexer": "ipython3",
   "version": "3.11.1"
  }
 },
 "nbformat": 4,
 "nbformat_minor": 5
}
